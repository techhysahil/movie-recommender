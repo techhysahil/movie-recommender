{
 "cells": [
  {
   "cell_type": "markdown",
   "metadata": {},
   "source": [
    "# 🎬 Simple Movie Recommender — End-to-End (Dataset → Training → Plots → Interactive Demo)\n",
    "\n",
    "This notebook builds a tiny, self-contained movie recommendation demo:\n",
    "- **Realistic synthetic dataset** (users, movies, ratings)\n",
    "- **Model training** (Keras / TensorFlow) with visible progress\n",
    "- **Plots**: rating distribution, age vs rating, and genre impact\n",
    "- **Interactive sliders**: test new user–movie pairs and see predicted ratings\n",
    "\n",
    "> **Requirements**: TensorFlow 2.x, pandas, numpy, matplotlib, scikit-learn, ipywidgets (for the sliders)."
   ]
  },
  {
   "cell_type": "code",
   "execution_count": null,
   "metadata": {},
   "outputs": [],
   "source": [
    "import os\n",
    "import numpy as np\n",
    "import pandas as pd\n",
    "import matplotlib.pyplot as plt\n",
    "\n",
    "from sklearn.preprocessing import MinMaxScaler\n",
    "from sklearn.model_selection import train_test_split\n",
    "\n",
    "import tensorflow as tf\n",
    "\n",
    "# For interactive widgets (only needed when running the sliders section)\n",
    "from ipywidgets import interact, FloatSlider, IntSlider, Dropdown\n",
    "\n",
    "# Make output deterministic-ish\n",
    "np.random.seed(42)\n",
    "tf.random.set_seed(42)\n",
    "\n",
    "print(\"TensorFlow:\", tf.__version__)"
   ]
  },
  {
   "cell_type": "markdown",
   "metadata": {},
   "source": [
    "## 1) Generate a realistic synthetic dataset"
   ]
  },
  {
   "cell_type": "code",
   "execution_count": null,
   "metadata": {},
   "outputs": [],
   "source": [
    "# --- Users ---\n",
    "num_users = 50\n",
    "users = pd.DataFrame({\n",
    "    'user_id': np.arange(1, num_users + 1),\n",
    "    'age': np.random.randint(18, 60, size=num_users),\n",
    "    'gender': np.random.randint(0, 2, size=num_users),  # 0=female, 1=male\n",
    "    'pref_action': np.random.rand(num_users),\n",
    "    'pref_comedy': np.random.rand(num_users),\n",
    "    'pref_drama': np.random.rand(num_users)\n",
    "})\n",
    "\n",
    "# --- Movies ---\n",
    "num_movies = 50\n",
    "movies = pd.DataFrame({\n",
    "    'movie_id': np.arange(101, 101 + num_movies),\n",
    "    'genre': np.random.randint(0, 3, size=num_movies),  # 0=Action, 1=Comedy, 2=Drama\n",
    "    'popularity': np.random.randint(50, 100, size=num_movies),\n",
    "    'year': np.random.randint(1980, 2024, size=num_movies)\n",
    "})\n",
    "\n",
    "# --- Ratings ---\n",
    "ratings_list = []\n",
    "for _, row in users.iterrows():\n",
    "    # each user rates 30 random movies\n",
    "    movie_choices = np.random.choice(movies['movie_id'], 30, replace=False)\n",
    "    for movie_id in movie_choices:\n",
    "        movie_genre = movies.loc[movies['movie_id'] == movie_id, 'genre'].values[0]\n",
    "        # latent preference signal: rating depends on (user preference for that genre + some noise)\n",
    "        if movie_genre == 0:   # Action\n",
    "            rating = int(np.clip(1 + 4 * row['pref_action'] + np.random.randn() * 0.2, 1, 5))\n",
    "        elif movie_genre == 1: # Comedy\n",
    "            rating = int(np.clip(1 + 4 * row['pref_comedy'] + np.random.randn() * 0.2, 1, 5))\n",
    "        else:                  # Drama\n",
    "            rating = int(np.clip(1 + 4 * row['pref_drama']   + np.random.randn() * 0.2, 1, 5))\n",
    "        ratings_list.append([row['user_id'], movie_id, rating])\n",
    "\n",
    "ratings = pd.DataFrame(ratings_list, columns=['user_id', 'movie_id', 'rating'])\n",
    "\n",
    "users.head(), movies.head(), ratings.head(), ratings.shape"
   ]
  },
  {
   "cell_type": "markdown",
   "metadata": {},
   "source": [
    "## 2) Exploratory data analysis (EDA) plots"
   ]
  },
  {
   "cell_type": "code",
   "execution_count": null,
   "metadata": {},
   "outputs": [],
   "source": [
    "# Join for easy plotting (do NOT scale here)\n",
    "data = ratings.merge(users, on='user_id').merge(movies, on='movie_id')\n",
    "\n",
    "# Plot 1: Rating distribution\n",
    "plt.figure()\n",
    "plt.hist(data['rating'], bins=[1,2,3,4,5,6], align='left', rwidth=0.8)\n",
    "plt.xticks([1,2,3,4,5])\n",
    "plt.xlabel('Rating')\n",
    "plt.ylabel('Count')\n",
    "plt.title('Rating Distribution')\n",
    "plt.show()\n",
    "\n",
    "# Plot 2: Age vs Rating (scatter; jitter to reduce overlap)\n",
    "jitter = np.random.normal(0, 0.1, size=len(data))\n",
    "plt.figure()\n",
    "plt.scatter(data['age'] + jitter, data['rating'] + jitter, alpha=0.5)\n",
    "plt.xlabel('Age')\n",
    "plt.ylabel('Rating')\n",
    "plt.title('Age vs Rating (with jitter)')\n",
    "plt.show()\n",
    "\n",
    "# Plot 3: Average rating by genre\n",
    "genre_map = {0: 'Action', 1: 'Comedy', 2: 'Drama'}\n",
    "avg_by_genre = data.groupby('genre')['rating'].mean().rename(index=genre_map)\n",
    "\n",
    "plt.figure()\n",
    "plt.bar(avg_by_genre.index.astype(str), avg_by_genre.values)\n",
    "plt.xlabel('Genre')\n",
    "plt.ylabel('Average Rating')\n",
    "plt.title('Average Rating by Genre')\n",
    "for i, v in enumerate(avg_by_genre.values):\n",
    "    plt.text(i, v + 0.02, f\"{v:.2f}\", ha='center')\n",
    "plt.show()\n",
    "\n",
    "avg_by_genre"
   ]
  },
  {
   "cell_type": "markdown",
   "metadata": {},
   "source": [
    "## 3) Preprocess & Train/Validation split"
   ]
  },
  {
   "cell_type": "code",
   "execution_count": null,
   "metadata": {},
   "outputs": [],
   "source": [
    "feature_cols = ['age', 'gender', 'genre', 'popularity', 'year',\n",
    "                'pref_action', 'pref_comedy', 'pref_drama']\n",
    "X = data[feature_cols].values\n",
    "y = data['rating'].astype(float).values\n",
    "\n",
    "scaler = MinMaxScaler()\n",
    "X_scaled = scaler.fit_transform(X)\n",
    "\n",
    "X_train, X_val, y_train, y_val = train_test_split(\n",
    "    X_scaled, y, test_size=0.2, random_state=42\n",
    ")\n",
    "\n",
    "X_train.shape, X_val.shape"
   ]
  },
  {
   "cell_type": "markdown",
   "metadata": {},
   "source": [
    "## 4) Build & Train the model (with progress)"
   ]
  },
  {
   "cell_type": "code",
   "execution_count": null,
   "metadata": {},
   "outputs": [],
   "source": [
    "model = tf.keras.Sequential([\n",
    "    tf.keras.layers.Dense(64, activation='relu', input_shape=(X_train.shape[1],)),\n",
    "    tf.keras.layers.Dense(32, activation='relu'),\n",
    "    tf.keras.layers.Dense(1)\n",
    "])\n",
    "model.compile(optimizer='adam', loss='mse', metrics=['mae'])\n",
    "model.summary()\n",
    "\n",
    "EPOCHS = 300\n",
    "history = model.fit(\n",
    "    X_train, y_train,\n",
    "    validation_data=(X_val, y_val),\n",
    "    epochs=EPOCHS,\n",
    "    verbose=1\n",
    ")\n",
    "\n",
    "plt.figure()\n",
    "plt.plot(history.history['loss'], label='Train Loss')\n",
    "plt.plot(history.history['val_loss'], label='Val Loss')\n",
    "plt.xlabel('Epoch')\n",
    "plt.ylabel('MSE Loss')\n",
    "plt.title('Training Progress (Loss)')\n",
    "plt.legend()\n",
    "plt.show()\n",
    "\n",
    "plt.figure()\n",
    "plt.plot(history.history['mae'], label='Train MAE')\n",
    "plt.plot(history.history['val_mae'], label='Val MAE')\n",
    "plt.xlabel('Epoch')\n",
    "plt.ylabel('MAE')\n",
    "plt.title('Training Progress (MAE)')\n",
    "plt.legend()\n",
    "plt.show()"
   ]
  },
  {
   "cell_type": "markdown",
   "metadata": {},
   "source": [
    "## 5) Save model and artifacts"
   ]
  },
  {
   "cell_type": "code",
   "execution_count": null,
   "metadata": {},
   "outputs": [],
   "source": [
    "os.makedirs(\"models\", exist_ok=True)\n",
    "model_path = \"models/movie_model_with_prefs.keras\"\n",
    "model.save(model_path)\n",
    "\n",
    "users.to_csv(\"users.csv\", index=False)\n",
    "movies.to_csv(\"movies.csv\", index=False)\n",
    "ratings.to_csv(\"ratings.csv\", index=False)\n",
    "\n",
    "print(\"Saved:\", model_path, \"and CSVs (users.csv, movies.csv, ratings.csv)\")"
   ]
  },
  {
   "cell_type": "markdown",
   "metadata": {},
   "source": [
    "## 6) Try it: interactive prediction with sliders"
   ]
  },
  {
   "cell_type": "code",
   "execution_count": null,
   "metadata": {},
   "outputs": [],
   "source": [
    "genre_label_to_id = {'Action': 0, 'Comedy': 1, 'Drama': 2}\n",
    "\n",
    "@interact(\n",
    "    age=IntSlider(value=27, min=13, max=80, step=1, description='Age'),\n",
    "    gender=Dropdown(options=[('Female (0)', 0), ('Male (1)', 1)], value=0, description='Gender'),\n",
    "    genre=Dropdown(options=['Action', 'Comedy', 'Drama'], value='Comedy', description='Genre'),\n",
    "    popularity=IntSlider(value=80, min=40, max=100, step=1, description='Popularity'),\n",
    "    year=IntSlider(value=2015, min=1980, max=2024, step=1, description='Year'),\n",
    "    pref_action=FloatSlider(value=0.2, min=0.0, max=1.0, step=0.01, description='Pref Action'),\n",
    "    pref_comedy=FloatSlider(value=0.9, min=0.0, max=1.0, step=0.01, description='Pref Comedy'),\n",
    "    pref_drama=FloatSlider(value=0.3, min=0.0, max=1.0, step=0.01, description='Pref Drama')\n",
    ")\n",
    "def predict_interactive(age, gender, genre, popularity, year, pref_action, pref_comedy, pref_drama):\n",
    "    row = np.array([[\n",
    "        age, gender, genre_label_to_id[genre], popularity, year,\n",
    "        pref_action, pref_comedy, pref_drama\n",
    "    ]], dtype=float)\n",
    "\n",
    "    row_scaled = scaler.transform(row)\n",
    "    pred = model.predict(row_scaled, verbose=0)[0][0]\n",
    "    pred_clamped = float(np.clip(pred, 1.0, 5.0))\n",
    "    print(f\"Predicted rating: {pred_clamped:.2f} (raw: {pred:.3f})\")"
   ]
  },
  {
   "cell_type": "markdown",
   "metadata": {},
   "source": [
    "### Example: single prediction (non-interactive)"
   ]
  },
  {
   "cell_type": "code",
   "execution_count": null,
   "metadata": {},
   "outputs": [],
   "source": [
    "new_data = np.array([[27, 0, 1, 80, 2015, 0.2, 0.9, 0.3]])\n",
    "new_data_scaled = scaler.transform(new_data)\n",
    "predicted_rating = model.predict(new_data_scaled, verbose=0)\n",
    "print(\"Predicted rating for example pair:\", float(predicted_rating[0][0]))"
   ]
  }
 ],
 "metadata": {
  "kernelspec": {
   "display_name": "Python 3",
   "language": "python",
   "name": "python3"
  },
  "language_info": {
   "name": "python",
   "version": "3.11"
  }
 },
 "nbformat": 4,
 "nbformat_minor": 5
}
